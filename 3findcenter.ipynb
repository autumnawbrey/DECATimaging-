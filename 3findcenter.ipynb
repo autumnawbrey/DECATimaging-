{
 "cells": [
  {
   "cell_type": "code",
   "execution_count": null,
   "id": "7aa52f21-7f23-4a87-9a1e-da620c0c928f",
   "metadata": {},
   "outputs": [],
   "source": [
    "from astropy.io import fits\n",
    "from astropy.wcs import WCS \n",
    "from astropy.coordinates import ICRS\n",
    "from astropy import units as u\n"
   ]
  },
  {
   "cell_type": "code",
   "execution_count": null,
   "id": "6495feb6-66fe-445c-b150-32663534b1ef",
   "metadata": {},
   "outputs": [],
   "source": [
    "#find the center for one good image that all the other images will be aligned too in the specified survey and filter \n",
    "\n",
    "image = fits.open('/global/u2/a/autumnaw/WorkinginDecatDatabase/DECATfields/DECAPS_WEST/DECAPS_WEST_g/c4d_210917_084048_ori_42_g.fits')\n",
    "\n",
    "\n",
    "\n"
   ]
  },
  {
   "cell_type": "code",
   "execution_count": null,
   "id": "4d106a51-7adc-4744-ad2c-9fe9c558538a",
   "metadata": {},
   "outputs": [],
   "source": [
    "center = WCS(image[1].header) "
   ]
  },
  {
   "cell_type": "code",
   "execution_count": null,
   "id": "fb2dc478-8a89-4467-9457-a2399aacfd54",
   "metadata": {},
   "outputs": [],
   "source": [
    "center"
   ]
  },
  {
   "cell_type": "code",
   "execution_count": null,
   "id": "98c9ed7a-2964-42af-812c-3fc1b0f16fd6",
   "metadata": {},
   "outputs": [],
   "source": [
    "otherRAT = center.pixel_to_world( 1024, 2048) "
   ]
  },
  {
   "cell_type": "code",
   "execution_count": null,
   "id": "80e095f8-6af1-4b94-9e3c-94be856dec46",
   "metadata": {},
   "outputs": [],
   "source": [
    "ra = otherRAT.ra.value\n",
    "dec = otherRAT.dec.value"
   ]
  },
  {
   "cell_type": "code",
   "execution_count": null,
   "id": "7593418a-9f1e-4eca-8468-90de55ca4e56",
   "metadata": {},
   "outputs": [],
   "source": [
    "print('center RA: %s' %ra)\n",
    "print('center dec: %s' %dec)"
   ]
  }
 ],
 "metadata": {
  "kernelspec": {
   "display_name": "NERSC Python",
   "language": "python",
   "name": "python3"
  },
  "language_info": {
   "codemirror_mode": {
    "name": "ipython",
    "version": 3
   },
   "file_extension": ".py",
   "mimetype": "text/x-python",
   "name": "python",
   "nbconvert_exporter": "python",
   "pygments_lexer": "ipython3",
   "version": "3.9.7"
  }
 },
 "nbformat": 4,
 "nbformat_minor": 5
}
