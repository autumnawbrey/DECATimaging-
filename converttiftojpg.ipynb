{
 "cells": [
  {
   "cell_type": "code",
   "execution_count": 1,
   "id": "49d693e6-9a7e-4ab0-8489-19a2b4a520c4",
   "metadata": {},
   "outputs": [],
   "source": [
    "from PIL import Image\n"
   ]
  },
  {
   "cell_type": "code",
   "execution_count": null,
   "id": "bceababb-0945-4d84-be35-c71a172c2724",
   "metadata": {},
   "outputs": [],
   "source": [
    "#convert tiff made from stiff to a jpeg\n",
    "im = Image.open('image.tif')\n",
    "im.thumbnail(im.size)                   \n",
    "im.save('imagename.jpg', \"JPEG\", quality=100)"
   ]
  }
 ],
 "metadata": {
  "kernelspec": {
   "display_name": "NERSC Python",
   "language": "python",
   "name": "python3"
  },
  "language_info": {
   "codemirror_mode": {
    "name": "ipython",
    "version": 3
   },
   "file_extension": ".py",
   "mimetype": "text/x-python",
   "name": "python",
   "nbconvert_exporter": "python",
   "pygments_lexer": "ipython3",
   "version": "3.9.7"
  }
 },
 "nbformat": 4,
 "nbformat_minor": 5
}
