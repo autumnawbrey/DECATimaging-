{
 "cells": [
  {
   "cell_type": "code",
   "execution_count": 12,
   "id": "a398e441-15cf-447d-bfa4-43d27679971b",
   "metadata": {},
   "outputs": [],
   "source": [
    "import pandas as pd\n",
    "import numpy as np\n",
    "import os\n",
    "\n",
    "\n",
    "import requests\n",
    "import astropy.io.fits as fits\n",
    "import glob \n",
    "\n",
    "import urllib.request\n",
    "import urllib.error\n"
   ]
  },
  {
   "cell_type": "code",
   "execution_count": null,
   "id": "95a34392-1f5f-4357-ae11-191598fb4f81",
   "metadata": {},
   "outputs": [],
   "source": [
    "chipnumbers = ['01', '02', '03', '04', '05', '06', '07', '08', '09', 10, 11, 12, 13, 14, 15, 16, 17, 18, 19, 20, 21, 22, 23, 24, 25, 26, 27, 28, 29, 30, 32, 33, 34, 35, 36, 37, 38, 39, 40, 41, 42, 43, 44, 45, 46, 47, 48, 49, 50, 51, 52, 53, 54, 55, 56, 57, 58, 59, 60, 62]\n",
    "\n",
    "#31 and 61 are not chipnums or you can also change what chipnums you want to pull"
   ]
  },
  {
   "cell_type": "code",
   "execution_count": null,
   "id": "cb5a54ea-d219-46a5-9508-87d45eb201a0",
   "metadata": {
    "tags": []
   },
   "outputs": [],
   "source": [
    "#create folders for each chipnumber to save the files in\n",
    "for i in chipnumbers: \n",
    "    print(i)  \n",
    "    path_for_folder = os.path.join('/global/u2/a/autumnaw/WorkinginDecatDatabase/DECATfields/ELAIS_E1/ELAIS_E1_g/', str(i))\n",
    "    os.mkdir(path_for_folder)\n",
    "    path_for_folder = os.path.join('/global/u2/a/autumnaw/WorkinginDecatDatabase/DECATfields/ELAIS_E1/ELAIS_E1_r/', str(i))\n",
    "    os.mkdir(path_for_folder)\n",
    "    path_for_folder = os.path.join('/global/u2/a/autumnaw/WorkinginDecatDatabase/DECATfields/ELAIS_E1/ELAIS_E1_i/', str(i))\n",
    "    os.mkdir(path_for_folder)\n",
    "    \n",
    "    path_for_folder = os.path.join('/global/u2/a/autumnaw/WorkinginDecatDatabase/DECATfields/ELAIS_E2/ELAIS_E2_g/', str(i))\n",
    "    os.mkdir(path_for_folder)\n",
    "    path_for_folder = os.path.join('/global/u2/a/autumnaw/WorkinginDecatDatabase/DECATfields/ELAIS_E2/ELAIS_E2_r/', str(i))\n",
    "    os.mkdir(path_for_folder)\n",
    "    path_for_folder = os.path.join('/global/u2/a/autumnaw/WorkinginDecatDatabase/DECATfields/ELAIS_E2/ELAIS_E2_i/', str(i))\n",
    "    os.mkdir(path_for_folder)\n",
    "    \n",
    "    path_for_folder = os.path.join('/global/u2/a/autumnaw/WorkinginDecatDatabase/DECATfields/COSMOS1/COSMOS1_g/', str(i))\n",
    "    os.mkdir(path_for_folder)\n",
    "    path_for_folder = os.path.join('/global/u2/a/autumnaw/WorkinginDecatDatabase/DECATfields/COSMOS1/COSMOS1_r/', str(i))\n",
    "    os.mkdir(path_for_folder)\n",
    "    path_for_folder = os.path.join('/global/u2/a/autumnaw/WorkinginDecatDatabase/DECATfields/COSMOS1/COSMOS1_i/', str(i))\n",
    "    os.mkdir(path_for_folder)\n",
    "    \n",
    "    \n",
    "    path_for_folder = os.path.join('/global/u2/a/autumnaw/WorkinginDecatDatabase/DECATfields/COSMOS2/COSMOS2_g/', str(i))\n",
    "    os.mkdir(path_for_folder)\n",
    "    path_for_folder = os.path.join('/global/u2/a/autumnaw/WorkinginDecatDatabase/DECATfields/COSMOS2/COSMOS2_r/', str(i))\n",
    "    os.mkdir(path_for_folder)\n",
    "    path_for_folder = os.path.join('/global/u2/a/autumnaw/WorkinginDecatDatabase/DECATfields/COSMOS2/COSMOS2_i/', str(i))\n",
    "    os.mkdir(path_for_folder)\n",
    "    \n",
    "    path_for_folder = os.path.join('/global/u2/a/autumnaw/WorkinginDecatDatabase/DECATfields/COSMOS3/COSMOS3_g/', str(i))\n",
    "    os.mkdir(path_for_folder)\n",
    "    path_for_folder = os.path.join('/global/u2/a/autumnaw/WorkinginDecatDatabase/DECATfields/COSMOS3/COSMOS3_r/', str(i))\n",
    "    os.mkdir(path_for_folder)\n",
    "    path_for_folder = os.path.join('/global/u2/a/autumnaw/WorkinginDecatDatabase/DECATfields/COSMOS3/COSMOS3_i/', str(i))\n",
    "    os.mkdir(path_for_folder)\n",
    "    \n",
    "    path_for_folder = os.path.join('/global/u2/a/autumnaw/WorkinginDecatDatabase/DECATfields/DECAPS_EAST/DECAPS_EAST_g/', str(i))\n",
    "    os.mkdir(path_for_folder)\n",
    "    path_for_folder = os.path.join('/global/u2/a/autumnaw/WorkinginDecatDatabase/DECATfields/DECAPS_EAST/DECAPS_EAST_r/', str(i))\n",
    "    os.mkdir(path_for_folder)\n",
    "    path_for_folder = os.path.join('/global/u2/a/autumnaw/WorkinginDecatDatabase/DECATfields/DECAPS_EAST/DECAPS_EAST_i/', str(i))\n",
    "    os.mkdir(path_for_folder)\n",
    "    \n",
    "     \n",
    "    path_for_folder = os.path.join('/global/u2/a/autumnaw/WorkinginDecatDatabase/DECATfields/DECAPS_WEST/DECAPS_WEST_g/', str(i))\n",
    "    os.mkdir(path_for_folder)\n",
    "    path_for_folder = os.path.join('/global/u2/a/autumnaw/WorkinginDecatDatabase/DECATfields/DECAPS_WEST/DECAPS_WEST_r/', str(i))\n",
    "    os.mkdir(path_for_folder)\n",
    "    path_for_folder = os.path.join('/global/u2/a/autumnaw/WorkinginDecatDatabase/DECATfields/DECAPS_WEST/DECAPS_WEST_i/', str(i))\n",
    "    os.mkdir(path_for_folder)\n",
    "    \n",
    "\n",
    "\n",
    "\n"
   ]
  },
  {
   "cell_type": "code",
   "execution_count": null,
   "id": "767dad6a-f521-44e1-b34f-ef1c43be12d8",
   "metadata": {},
   "outputs": [],
   "source": [
    "def turnlinkstofits(fieldname, filterr):\n",
    "    \n",
    "    for i in chipnumbers:\n",
    "        print(i)\n",
    "        file = os.path.join('/global/u2/a/autumnaw/WorkinginDecatDatabase/DECATfields/', fieldname, fieldname + '_' + str(i) + '_' + filterr + '.csv')\n",
    "        print(file)\n",
    "        df = pd.read_csv(file)\n",
    "\n",
    "        for index, row in df.iterrows():\n",
    "            j = row['filename']\n",
    "\n",
    "            number = j.split('_')[1]\n",
    "            #print(number)\n",
    "\n",
    "            filesname = j.split('.')[0]\n",
    "            suffix = '.fits.fz'\n",
    "            linkname = f'https://portal.nersc.gov/cfs/m937/decat/{row[\"proposalid\"]}/'\n",
    "\n",
    "            url = os.path.join(linkname, number, filesname, filesname + '.' + str(i) + suffix)\n",
    "\n",
    "            try:\n",
    "                filesname = url.split('/')[8]\n",
    "                print(url)\n",
    "                dat = fits.open(url)\n",
    "                path_to_save = os.path.join('/global/u2/a/autumnaw/WorkinginDecatDatabase/DECATfields/', fieldname, fieldname + '_' + filterr, str(i), filesname + '_' + str(i) + '_' + filterr + '.fits')\n",
    "                dat.writeto(path_to_save, overwrite = True)\n",
    "\n",
    "\n",
    "            except urllib.error.HTTPError as err:\n",
    "                print('ERROR! LINK DOES NOT EXIST: %s' %url )\n",
    "                pass\n",
    "\n",
    "\n",
    "\n",
    "    \n"
   ]
  },
  {
   "cell_type": "code",
   "execution_count": null,
   "id": "dd4c3d5e-6971-4848-97db-f12ea1e84b1a",
   "metadata": {
    "tags": []
   },
   "outputs": [],
   "source": [
    "turnlinkstofits('COSMOS1', 'g')  #options for surveys: [COSMOS1, COSMOS2, COSMOS3, DECAPS_EAST, DECAPS_WEST] and for filters: [g,r,i]"
   ]
  }
 ],
 "metadata": {
  "kernelspec": {
   "display_name": "NERSC Python",
   "language": "python",
   "name": "python3"
  },
  "language_info": {
   "codemirror_mode": {
    "name": "ipython",
    "version": 3
   },
   "file_extension": ".py",
   "mimetype": "text/x-python",
   "name": "python",
   "nbconvert_exporter": "python",
   "pygments_lexer": "ipython3",
   "version": "3.9.7"
  }
 },
 "nbformat": 4,
 "nbformat_minor": 5
}
